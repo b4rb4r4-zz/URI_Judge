{
 "cells": [
  {
   "cell_type": "code",
   "execution_count": null,
   "metadata": {
    "collapsed": true
   },
   "outputs": [],
   "source": [
    "ddd = input()\n",
    "\n",
    "lista={\"61\":\"Brasilia\",\"71\":\"Salvador\",\"11\":\"Sao Paulo\",\"21\":\"Rio de Janeiro\",\"32\":\"Juiz de Fora\",\"19\":\"Campinas\",\"27\":\"Vitoria\",\"31\":\"Belo Horizonte\"}\n",
    "\n",
    "try:\n",
    "    print(lista[ddd])\n",
    "except:\n",
    "    print(\"DDD nao cadastrado\")"
   ]
  }
 ],
 "metadata": {
  "kernelspec": {
   "display_name": "Python 3",
   "language": "python",
   "name": "python3"
  },
  "language_info": {
   "codemirror_mode": {
    "name": "ipython",
    "version": 3
   },
   "file_extension": ".py",
   "mimetype": "text/x-python",
   "name": "python",
   "nbconvert_exporter": "python",
   "pygments_lexer": "ipython3",
   "version": "3.6.3"
  }
 },
 "nbformat": 4,
 "nbformat_minor": 2
}
