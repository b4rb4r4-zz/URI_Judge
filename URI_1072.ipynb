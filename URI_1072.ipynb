{
 "cells": [
  {
   "cell_type": "code",
   "execution_count": 40,
   "metadata": {
    "slideshow": {
     "slide_type": "slide"
    }
   },
   "outputs": [
    {
     "name": "stdout",
     "output_type": "stream",
     "text": [
      "2\n",
      "1\n",
      "2\n"
     ]
    }
   ],
   "source": [
    "tam = int(input())\n",
    "ls_num = []\n",
    "if tam <10000:\n",
    "    for i in range(tam):\n",
    "        num = int(input())\n",
    "        ls_num.append(num)\n",
    "#print(ls_num)\n"
   ]
  },
  {
   "cell_type": "code",
   "execution_count": null,
   "metadata": {},
   "outputs": [],
   "source": [
    "ls_in = []\n",
    "for i in range(len(ls_num)):\n",
    "    if ls_num[i] >=10 and ls_num[i] <=20:\n",
    "        ls_in.append(ls_num[i])\n",
    "print(len(ls_in), \"in\")\n",
    "print(len(ls_num) - len(ls_in), \"out\")"
   ]
  }
 ],
 "metadata": {
  "kernelspec": {
   "display_name": "Python 3",
   "language": "python",
   "name": "python3"
  },
  "language_info": {
   "codemirror_mode": {
    "name": "ipython",
    "version": 3
   },
   "file_extension": ".py",
   "mimetype": "text/x-python",
   "name": "python",
   "nbconvert_exporter": "python",
   "pygments_lexer": "ipython3",
   "version": "3.6.5"
  }
 },
 "nbformat": 4,
 "nbformat_minor": 2
}
