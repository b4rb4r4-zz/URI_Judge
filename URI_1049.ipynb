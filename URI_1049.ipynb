{
 "cells": [
  {
   "cell_type": "code",
   "execution_count": 30,
   "metadata": {},
   "outputs": [
    {
     "name": "stdout",
     "output_type": "stream",
     "text": [
      "11\n"
     ]
    }
   ],
   "source": [
    "ddd = input()\n",
    "\n",
    "lista={\"61\":\"Brasilia\",\"71\":\"Salvador\",\"11\":\"Sao Paulo\",\"21\":\"Rio de Janeiro\",\"32\":\"Juiz de Fora\",\"19\":\"Campinas\",\"27\":\"Vitoria\",\"31\":\"Belo Horizonte\"}\n",
    "\n",
    "try:\n",
    "    print(lista[ddd])\n",
    "except:\n",
    "    print(\"DDD nao cadastrado\")"
   ]
  },
  {
   "cell_type": "code",
   "execution_count": null,
   "metadata": {
    "collapsed": true
   },
   "outputs": [],
   "source": []
  }
 ],
 "metadata": {
  "kernelspec": {
   "display_name": "Python 3",
   "language": "python",
   "name": "python3"
  },
  "language_info": {
   "codemirror_mode": {
    "name": "ipython",
    "version": 3
   },
   "file_extension": ".py",
   "mimetype": "text/x-python",
   "name": "python",
   "nbconvert_exporter": "python",
   "pygments_lexer": "ipython3",
   "version": "3.6.5"
  }
 },
 "nbformat": 4,
 "nbformat_minor": 2
}
